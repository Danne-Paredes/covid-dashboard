{
 "cells": [
  {
   "cell_type": "code",
   "execution_count": 1,
   "metadata": {
    "tags": []
   },
   "outputs": [
    {
     "name": "stdout",
     "output_type": "stream",
     "text": [
      "         Country  Province/State   Latitude   Longitude  Confirmed  Recovered  \\\n",
      "0          China           Anhui  31.825700  117.226400        1.0        NaN   \n",
      "1          China         Beijing  40.182400  116.414200       14.0        NaN   \n",
      "2          China       Chongqing  30.057200  107.874000        6.0        NaN   \n",
      "3          China          Fujian  26.078900  117.987400        1.0        NaN   \n",
      "4          China           Gansu  36.061100  103.834300        NaN        NaN   \n",
      "...          ...             ...        ...         ...        ...        ...   \n",
      "433125  Colombia         Unknown   5.026000  -74.297300        0.0        0.0   \n",
      "433126        US          Alaska  59.796037 -158.238194        1.0        0.0   \n",
      "433127    Canada  Grand Princess   0.000000    0.000000       13.0       13.0   \n",
      "433128        US           Idaho  46.233153 -116.434146        1.0        0.0   \n",
      "433129        US          Oregon  44.726982 -120.028143        0.0        0.0   \n",
      "\n",
      "        Deaths       Date  \n",
      "0          NaN  1/22/2020  \n",
      "1          NaN  1/22/2020  \n",
      "2          NaN  1/22/2020  \n",
      "3          NaN  1/22/2020  \n",
      "4          NaN  1/22/2020  \n",
      "...        ...        ...  \n",
      "433125     0.0  7/23/2020  \n",
      "433126     0.0  7/23/2020  \n",
      "433127     0.0  7/23/2020  \n",
      "433128     0.0  7/23/2020  \n",
      "433129     0.0  7/23/2020  \n",
      "\n",
      "[433130 rows x 8 columns]\n"
     ]
    }
   ],
   "source": [
    "# Dependencies and Setup\n",
    "import pandas as pd\n",
    "\n",
    "\n",
    "# File to Load (Remember to Change These)\n",
    "file = \"covid-19-all.csv\"\n",
    "\n",
    "# Read Purchasing File and store into Pandas data frame\n",
    "data = pd.read_csv(file)\n",
    "print(data)"
   ]
  },
  {
   "cell_type": "code",
   "execution_count": 2,
   "metadata": {
    "tags": []
   },
   "outputs": [
    {
     "name": "stdout",
     "output_type": "stream",
     "text": [
      "       Country Province/State  Latitude  Longitude  Confirmed  Recovered  \\\n",
      "0        China          Anhui   31.8257   117.2264        1.0        NaN   \n",
      "1        China        Beijing   40.1824   116.4142       14.0        NaN   \n",
      "2        China      Chongqing   30.0572   107.8740        6.0        NaN   \n",
      "3        China         Fujian   26.0789   117.9874        1.0        NaN   \n",
      "4        China          Gansu   36.0611   103.8343        NaN        NaN   \n",
      "...        ...            ...       ...        ...        ...        ...   \n",
      "432852   China        Tianjin   39.3054   117.3230      203.0      195.0   \n",
      "432853   China          Tibet   31.6927    88.0924        1.0        1.0   \n",
      "432908   China       Xinjiang   41.1129    85.2401      171.0       73.0   \n",
      "432915   China         Yunnan   24.9740   101.4870      189.0      185.0   \n",
      "432920   China       Zhejiang   29.1832   120.0934     1270.0     1267.0   \n",
      "\n",
      "        Deaths       Date  \n",
      "0          NaN  1/22/2020  \n",
      "1          NaN  1/22/2020  \n",
      "2          NaN  1/22/2020  \n",
      "3          NaN  1/22/2020  \n",
      "4          NaN  1/22/2020  \n",
      "...        ...        ...  \n",
      "432852     3.0  7/23/2020  \n",
      "432853     0.0  7/23/2020  \n",
      "432908     3.0  7/23/2020  \n",
      "432915     2.0  7/23/2020  \n",
      "432920     1.0  7/23/2020  \n",
      "\n",
      "[5972 rows x 8 columns]\n"
     ]
    }
   ],
   "source": [
    "\n",
    "USdata = data.loc[data[\"Country\"] == \"US\", :]\n",
    "Chinadata = data.loc[data[\"Country\"] == \"China\", :]\n",
    "print(Chinadata)"
   ]
  },
  {
   "cell_type": "code",
   "execution_count": 3,
   "metadata": {},
   "outputs": [],
   "source": [
    "USdata.to_csv(r'C:\\Users\\sacst\\Desktop\\Data_Analytics\\covid-dashboard\\USdata.csv', index = False)"
   ]
  },
  {
   "cell_type": "code",
   "execution_count": 4,
   "metadata": {},
   "outputs": [],
   "source": [
    "Chinadata.to_csv(r'C:\\Users\\sacst\\Desktop\\Data_Analytics\\covid-dashboard\\Chinadata.csv', index = False)"
   ]
  },
  {
   "cell_type": "code",
   "execution_count": 6,
   "metadata": {},
   "outputs": [
    {
     "name": "stdout",
     "output_type": "stream",
     "text": [
      "       Country  Province/State   Latitude   Longitude  Confirmed  Recovered  \\\n",
      "0           US      Washington  47.140037 -120.791360        1.0        NaN   \n",
      "1           US      Washington  47.140037 -120.791360        1.0        NaN   \n",
      "2           US      Washington  47.140037 -120.791360        1.0        NaN   \n",
      "3           US         Chicago  38.212678  -89.502995        1.0        NaN   \n",
      "4           US      Washington  47.140037 -120.791360        1.0        NaN   \n",
      "...        ...             ...        ...         ...        ...        ...   \n",
      "371101      US  Virgin Islands  18.335800  -64.896300      336.0        0.0   \n",
      "371102      US        Oklahoma  35.542606  -97.068263        0.0        0.0   \n",
      "371103      US          Alaska  59.796037 -158.238194        1.0        0.0   \n",
      "371104      US           Idaho  46.233153 -116.434146        1.0        0.0   \n",
      "371105      US          Oregon  44.726982 -120.028143        0.0        0.0   \n",
      "\n",
      "        Deaths       Date  \n",
      "0          NaN  1/22/2020  \n",
      "1          NaN  1/23/2020  \n",
      "2          NaN  1/24/2020  \n",
      "3          NaN  1/24/2020  \n",
      "4          NaN  1/25/2020  \n",
      "...        ...        ...  \n",
      "371101     7.0  7/23/2020  \n",
      "371102     0.0  7/23/2020  \n",
      "371103     0.0  7/23/2020  \n",
      "371104     0.0  7/23/2020  \n",
      "371105     0.0  7/23/2020  \n",
      "\n",
      "[371106 rows x 8 columns]\n"
     ]
    }
   ],
   "source": [
    "# File to Load (Remember to Change These)\n",
    "file2 = \"USdata.csv\"\n",
    "\n",
    "# Read Purchasing File and store into Pandas data frame\n",
    "groupdata = pd.read_csv(file2)\n",
    "print(groupdata)"
   ]
  },
  {
   "cell_type": "code",
   "execution_count": 30,
   "metadata": {},
   "outputs": [
    {
     "ename": "SyntaxError",
     "evalue": "invalid syntax (<ipython-input-30-43d8635cab26>, line 7)",
     "output_type": "error",
     "traceback": [
      "\u001b[1;36m  File \u001b[1;32m\"<ipython-input-30-43d8635cab26>\"\u001b[1;36m, line \u001b[1;32m7\u001b[0m\n\u001b[1;33m    July = groupdata.loc([\"Date\"]:{\"$regex\":\"4/\\d*/2020\"}})\u001b[0m\n\u001b[1;37m                                 ^\u001b[0m\n\u001b[1;31mSyntaxError\u001b[0m\u001b[1;31m:\u001b[0m invalid syntax\n"
     ]
    }
   ],
   "source": [
    "January = groupdata.loc[1:29]\n",
    "February = groupdata.loc[30:373]\n",
    "March = groupdata.loc[374:32348]\n",
    "April = groupdata.loc[32349:113679]\n",
    "May = groupdata.loc[113680:206172]\n",
    "June = groupdata.loc[206173:298348]\n",
    "July = groupdata.loc([\"Date\"]:{\"$regex\":\"4/\\d*/2020\"}})\n",
    "\n",
    "print(July)"
   ]
  },
  {
   "cell_type": "code",
   "execution_count": 27,
   "metadata": {},
   "outputs": [],
   "source": [
    "January.to_csv(r'C:\\Users\\sacst\\Desktop\\Data_Analytics\\covid-dashboard\\Months\\January.csv', index = False)\n",
    "February.to_csv(r'C:\\Users\\sacst\\Desktop\\Data_Analytics\\covid-dashboard\\Months\\February.csv', index = False)\n",
    "March.to_csv(r'C:\\Users\\sacst\\Desktop\\Data_Analytics\\covid-dashboard\\Months\\March.csv', index = False)\n",
    "April.to_csv(r'C:\\Users\\sacst\\Desktop\\Data_Analytics\\covid-dashboard\\Months\\April.csv', index = False)\n",
    "May.to_csv(r'C:\\Users\\sacst\\Desktop\\Data_Analytics\\covid-dashboard\\Months\\May.csv', index = False)\n",
    "June.to_csv(r'C:\\Users\\sacst\\Desktop\\Data_Analytics\\covid-dashboard\\Months\\June.csv', index = False)\n",
    "July.to_csv(r'C:\\Users\\sacst\\Desktop\\Data_Analytics\\covid-dashboard\\Months\\July.csv', index = False)"
   ]
  },
  {
   "cell_type": "code",
   "execution_count": null,
   "metadata": {},
   "outputs": [],
   "source": [
    "data = pd.read_csv(file)"
   ]
  }
 ],
 "metadata": {
  "kernelspec": {
   "display_name": "Python 3",
   "language": "python",
   "name": "python3"
  },
  "language_info": {
   "codemirror_mode": {
    "name": "ipython",
    "version": 3
   },
   "file_extension": ".py",
   "mimetype": "text/x-python",
   "name": "python",
   "nbconvert_exporter": "python",
   "pygments_lexer": "ipython3",
   "version": "3.6.10"
  }
 },
 "nbformat": 4,
 "nbformat_minor": 2
}
