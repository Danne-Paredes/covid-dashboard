{
 "cells": [
  {
   "cell_type": "code",
   "execution_count": 1,
   "metadata": {
    "tags": []
   },
   "outputs": [
    {
     "name": "stdout",
     "output_type": "stream",
     "text": [
      "         Country  Province/State   Latitude   Longitude  Confirmed  Recovered  \\\n",
      "0          China           Anhui  31.825700  117.226400        1.0        NaN   \n",
      "1          China         Beijing  40.182400  116.414200       14.0        NaN   \n",
      "2          China       Chongqing  30.057200  107.874000        6.0        NaN   \n",
      "3          China          Fujian  26.078900  117.987400        1.0        NaN   \n",
      "4          China           Gansu  36.061100  103.834300        NaN        NaN   \n",
      "...          ...             ...        ...         ...        ...        ...   \n",
      "433125  Colombia         Unknown   5.026000  -74.297300        0.0        0.0   \n",
      "433126        US          Alaska  59.796037 -158.238194        1.0        0.0   \n",
      "433127    Canada  Grand Princess   0.000000    0.000000       13.0       13.0   \n",
      "433128        US           Idaho  46.233153 -116.434146        1.0        0.0   \n",
      "433129        US          Oregon  44.726982 -120.028143        0.0        0.0   \n",
      "\n",
      "        Deaths       Date  \n",
      "0          NaN  1/22/2020  \n",
      "1          NaN  1/22/2020  \n",
      "2          NaN  1/22/2020  \n",
      "3          NaN  1/22/2020  \n",
      "4          NaN  1/22/2020  \n",
      "...        ...        ...  \n",
      "433125     0.0  7/23/2020  \n",
      "433126     0.0  7/23/2020  \n",
      "433127     0.0  7/23/2020  \n",
      "433128     0.0  7/23/2020  \n",
      "433129     0.0  7/23/2020  \n",
      "\n",
      "[433130 rows x 8 columns]\n"
     ]
    }
   ],
   "source": [
    "# Dependencies and Setup\n",
    "import pandas as pd\n",
    "\n",
    "\n",
    "# File to Load (Remember to Change These)\n",
    "file = \"covid-19-all.csv\"\n",
    "\n",
    "# Read Purchasing File and store into Pandas data frame\n",
    "data = pd.read_csv(file)\n",
    "print(data)"
   ]
  },
  {
   "cell_type": "code",
   "execution_count": 2,
   "metadata": {
    "tags": []
   },
   "outputs": [
    {
     "name": "stdout",
     "output_type": "stream",
     "text": [
      "       Country Province/State  Latitude  Longitude  Confirmed  Recovered  \\\n",
      "0        China          Anhui   31.8257   117.2264        1.0        NaN   \n",
      "1        China        Beijing   40.1824   116.4142       14.0        NaN   \n",
      "2        China      Chongqing   30.0572   107.8740        6.0        NaN   \n",
      "3        China         Fujian   26.0789   117.9874        1.0        NaN   \n",
      "4        China          Gansu   36.0611   103.8343        NaN        NaN   \n",
      "...        ...            ...       ...        ...        ...        ...   \n",
      "432852   China        Tianjin   39.3054   117.3230      203.0      195.0   \n",
      "432853   China          Tibet   31.6927    88.0924        1.0        1.0   \n",
      "432908   China       Xinjiang   41.1129    85.2401      171.0       73.0   \n",
      "432915   China         Yunnan   24.9740   101.4870      189.0      185.0   \n",
      "432920   China       Zhejiang   29.1832   120.0934     1270.0     1267.0   \n",
      "\n",
      "        Deaths       Date  \n",
      "0          NaN  1/22/2020  \n",
      "1          NaN  1/22/2020  \n",
      "2          NaN  1/22/2020  \n",
      "3          NaN  1/22/2020  \n",
      "4          NaN  1/22/2020  \n",
      "...        ...        ...  \n",
      "432852     3.0  7/23/2020  \n",
      "432853     0.0  7/23/2020  \n",
      "432908     3.0  7/23/2020  \n",
      "432915     2.0  7/23/2020  \n",
      "432920     1.0  7/23/2020  \n",
      "\n",
      "[5972 rows x 8 columns]\n"
     ]
    }
   ],
   "source": [
    "\n",
    "USdata = data.loc[data[\"Country\"] == \"US\", :]\n",
    "Chinadata = data.loc[data[\"Country\"] == \"China\", :]\n",
    "print(Chinadata)"
   ]
  },
  {
   "cell_type": "code",
   "execution_count": 3,
   "metadata": {},
   "outputs": [],
   "source": [
    "USdata.to_csv(r'C:\\Users\\sacst\\Desktop\\Data_Analytics\\covid-dashboard\\USdata.csv', index = False)"
   ]
  },
  {
   "cell_type": "code",
   "execution_count": 4,
   "metadata": {},
   "outputs": [],
   "source": [
    "Chinadata.to_csv(r'C:\\Users\\sacst\\Desktop\\Data_Analytics\\covid-dashboard\\Chinadata.csv', index = False)"
   ]
  }
 ],
 "metadata": {
  "kernelspec": {
   "display_name": "Python 3",
   "language": "python",
   "name": "python3"
  },
  "language_info": {
   "codemirror_mode": {
    "name": "ipython",
    "version": 3
   },
   "file_extension": ".py",
   "mimetype": "text/x-python",
   "name": "python",
   "nbconvert_exporter": "python",
   "pygments_lexer": "ipython3",
   "version": "3.6.10"
  }
 },
 "nbformat": 4,
 "nbformat_minor": 2
}